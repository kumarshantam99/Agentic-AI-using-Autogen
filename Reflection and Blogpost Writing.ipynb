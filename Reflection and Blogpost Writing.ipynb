{
 "cells": [
  {
   "cell_type": "code",
   "execution_count": 1,
   "metadata": {},
   "outputs": [],
   "source": [
    "from utils import get_openai_api_key\n",
    "OPENAI_API_KEY = get_openai_api_key()\n",
    "llm_config = {\"model\": \"gpt-3.5-turbo\"}"
   ]
  },
  {
   "cell_type": "code",
   "execution_count": 2,
   "metadata": {},
   "outputs": [],
   "source": [
    "task = '''\n",
    "        Write a concise but engaging blogpost about\n",
    "       DeepLearning.AI. Make sure the blogpost is\n",
    "       within 100 words.\n",
    "       '''"
   ]
  },
  {
   "cell_type": "markdown",
   "metadata": {},
   "source": [
    "### Create a writer agent"
   ]
  },
  {
   "cell_type": "code",
   "execution_count": 3,
   "metadata": {},
   "outputs": [
    {
     "name": "stderr",
     "output_type": "stream",
     "text": [
      "c:\\Users\\kshantam\\Time series forecasting\\Agentic AI\\env\\Lib\\site-packages\\flaml\\__init__.py:20: UserWarning: flaml.automl is not available. Please install flaml[automl] to enable AutoML functionalities.\n",
      "  warnings.warn(\"flaml.automl is not available. Please install flaml[automl] to enable AutoML functionalities.\")\n"
     ]
    },
    {
     "name": "stdout",
     "output_type": "stream",
     "text": [
      "[autogen.oai.client: 01-13 12:08:54] {129} WARNING - The API key specified is not a valid OpenAI format; it won't work with the OpenAI-hosted model.\n"
     ]
    }
   ],
   "source": [
    "import autogen\n",
    "\n",
    "writer = autogen.AssistantAgent(\n",
    "    name=\"Writer\",\n",
    "    system_message=\"You are a writer. You write engaging and concise \" \n",
    "        \"blogpost (with title) on given topics. You must polish your \"\n",
    "        \"writing based on the feedback you receive and give a refined \"\n",
    "        \"version. Only return your final work without additional comments.\",\n",
    "    llm_config=llm_config,\n",
    ")"
   ]
  },
  {
   "cell_type": "code",
   "execution_count": 4,
   "metadata": {},
   "outputs": [],
   "source": [
    "reply = writer.generate_reply(messages=[{\"content\": task, \"role\": \"user\"}])"
   ]
  },
  {
   "cell_type": "code",
   "execution_count": 5,
   "metadata": {},
   "outputs": [
    {
     "name": "stdout",
     "output_type": "stream",
     "text": [
      "Title: Unleashing the Power of Deep Learning with DeepLearning.AI\n",
      "\n",
      "Are you ready to dive into the fascinating world of deep learning? Look no further than DeepLearning.AI, your gateway to cutting-edge technology and innovation. Founded by the renowned AI expert Andrew Ng, this platform offers top-tier courses that cater to beginners and experts alike. From computer vision to natural language processing, DeepLearning.AI equips you with the tools and knowledge needed to thrive in the AI industry. Join a global community of learners and unleash your potential with DeepLearning.AI today!\n"
     ]
    }
   ],
   "source": [
    "print(reply)"
   ]
  },
  {
   "cell_type": "markdown",
   "metadata": {},
   "source": [
    "### Adding reflection"
   ]
  },
  {
   "cell_type": "code",
   "execution_count": 6,
   "metadata": {},
   "outputs": [
    {
     "name": "stdout",
     "output_type": "stream",
     "text": [
      "[autogen.oai.client: 01-13 12:09:43] {129} WARNING - The API key specified is not a valid OpenAI format; it won't work with the OpenAI-hosted model.\n"
     ]
    }
   ],
   "source": [
    "critic = autogen.AssistantAgent(\n",
    "    name=\"Critic\",\n",
    "    is_termination_msg=lambda x: x.get(\"content\", \"\").find(\"TERMINATE\") >= 0,\n",
    "    llm_config=llm_config,\n",
    "    system_message=\"You are a critic. You review the work of \"\n",
    "                \"the writer and provide constructive \"\n",
    "                \"feedback to help improve the quality of the content.\",\n",
    ")"
   ]
  },
  {
   "cell_type": "code",
   "execution_count": 7,
   "metadata": {},
   "outputs": [
    {
     "name": "stdout",
     "output_type": "stream",
     "text": [
      "\u001b[33mCritic\u001b[0m (to Writer):\n",
      "\n",
      "\n",
      "        Write a concise but engaging blogpost about\n",
      "       DeepLearning.AI. Make sure the blogpost is\n",
      "       within 100 words.\n",
      "       \n",
      "\n",
      "--------------------------------------------------------------------------------\n",
      "\u001b[33mWriter\u001b[0m (to Critic):\n",
      "\n",
      "Title: Unleashing the Power of Deep Learning with DeepLearning.AI\n",
      "\n",
      "Are you ready to dive into the fascinating world of deep learning? Look no further than DeepLearning.AI, your gateway to cutting-edge technology and innovation. Founded by the renowned AI expert Andrew Ng, this platform offers top-tier courses that cater to beginners and experts alike. From computer vision to natural language processing, DeepLearning.AI equips you with the tools and knowledge needed to thrive in the AI industry. Join a global community of learners and unleash your potential with DeepLearning.AI today!\n",
      "\n",
      "--------------------------------------------------------------------------------\n",
      "\u001b[33mCritic\u001b[0m (to Writer):\n",
      "\n",
      "The blogpost about DeepLearning.AI is succinct and informative. It effectively captures the essence of the platform and highlights its key features. To enhance the blogpost, you could include specific examples of the courses offered by DeepLearning.AI and their real-world applications. Additionally, providing insights into the learning experience, such as interactive projects or industry collaborations, could further engage the readers. Overall, the blogpost is well-written, but expanding on the practical aspects of the courses and student experiences could make it even more compelling.\n",
      "\n",
      "--------------------------------------------------------------------------------\n",
      "\u001b[33mWriter\u001b[0m (to Critic):\n",
      "\n",
      "Title: Harnessing the Potential of Deep Learning: A Deep Dive into DeepLearning.AI\n",
      "\n",
      "Embark on a transformative journey through the realm of deep learning with DeepLearning.AI. Founded by AI luminary Andrew Ng, this platform offers a diverse array of courses, including \"Neural Networks and Deep Learning\" and \"Sequence Models,\" with applications spanning autonomous driving to healthcare. Dive into interactive projects and collaborate with industry experts to sharpen your skills. Join a vibrant global community of learners and unlock the door to a future powered by AI innovation. With DeepLearning.AI, the possibilities are limitless – are you ready to seize them?\n",
      "\n",
      "--------------------------------------------------------------------------------\n"
     ]
    }
   ],
   "source": [
    "res = critic.initiate_chat(\n",
    "    recipient=writer,\n",
    "    message=task,\n",
    "    max_turns=2,\n",
    "    summary_method=\"last_msg\"\n",
    ")"
   ]
  },
  {
   "cell_type": "markdown",
   "metadata": {},
   "source": [
    "### Nested chat"
   ]
  },
  {
   "cell_type": "code",
   "execution_count": 8,
   "metadata": {},
   "outputs": [
    {
     "name": "stdout",
     "output_type": "stream",
     "text": [
      "[autogen.oai.client: 01-13 12:10:20] {129} WARNING - The API key specified is not a valid OpenAI format; it won't work with the OpenAI-hosted model.\n"
     ]
    }
   ],
   "source": [
    "SEO_reviewer = autogen.AssistantAgent(\n",
    "    name=\"SEO Reviewer\",\n",
    "    llm_config=llm_config,\n",
    "    system_message=\"You are an SEO reviewer, known for \"\n",
    "        \"your ability to optimize content for search engines, \"\n",
    "        \"ensuring that it ranks well and attracts organic traffic. \" \n",
    "        \"Make sure your suggestion is concise (within 3 bullet points), \"\n",
    "        \"concrete and to the point. \"\n",
    "        \"Begin the review by stating your role.\",\n",
    ")"
   ]
  },
  {
   "cell_type": "code",
   "execution_count": 9,
   "metadata": {},
   "outputs": [
    {
     "name": "stdout",
     "output_type": "stream",
     "text": [
      "[autogen.oai.client: 01-13 12:10:28] {129} WARNING - The API key specified is not a valid OpenAI format; it won't work with the OpenAI-hosted model.\n"
     ]
    }
   ],
   "source": [
    "legal_reviewer = autogen.AssistantAgent(\n",
    "    name=\"Legal Reviewer\",\n",
    "    llm_config=llm_config,\n",
    "    system_message=\"You are a legal reviewer, known for \"\n",
    "        \"your ability to ensure that content is legally compliant \"\n",
    "        \"and free from any potential legal issues. \"\n",
    "        \"Make sure your suggestion is concise (within 3 bullet points), \"\n",
    "        \"concrete and to the point. \"\n",
    "        \"Begin the review by stating your role.\",\n",
    ")"
   ]
  },
  {
   "cell_type": "code",
   "execution_count": 10,
   "metadata": {},
   "outputs": [
    {
     "name": "stdout",
     "output_type": "stream",
     "text": [
      "[autogen.oai.client: 01-13 12:10:35] {129} WARNING - The API key specified is not a valid OpenAI format; it won't work with the OpenAI-hosted model.\n"
     ]
    }
   ],
   "source": [
    "ethics_reviewer = autogen.AssistantAgent(\n",
    "    name=\"Ethics Reviewer\",\n",
    "    llm_config=llm_config,\n",
    "    system_message=\"You are an ethics reviewer, known for \"\n",
    "        \"your ability to ensure that content is ethically sound \"\n",
    "        \"and free from any potential ethical issues. \" \n",
    "        \"Make sure your suggestion is concise (within 3 bullet points), \"\n",
    "        \"concrete and to the point. \"\n",
    "        \"Begin the review by stating your role. \",\n",
    ")"
   ]
  },
  {
   "cell_type": "code",
   "execution_count": 11,
   "metadata": {},
   "outputs": [
    {
     "name": "stdout",
     "output_type": "stream",
     "text": [
      "[autogen.oai.client: 01-13 12:10:42] {129} WARNING - The API key specified is not a valid OpenAI format; it won't work with the OpenAI-hosted model.\n"
     ]
    }
   ],
   "source": [
    "meta_reviewer = autogen.AssistantAgent(\n",
    "    name=\"Meta Reviewer\",\n",
    "    llm_config=llm_config,\n",
    "    system_message=\"You are a meta reviewer, you aggragate and review \"\n",
    "    \"the work of other reviewers and give a final suggestion on the content.\",\n",
    ")"
   ]
  },
  {
   "cell_type": "markdown",
   "metadata": {},
   "source": [
    "### Orchestrate the nested chats to solve the task"
   ]
  },
  {
   "cell_type": "code",
   "execution_count": 12,
   "metadata": {},
   "outputs": [],
   "source": [
    "def reflection_message(recipient, messages, sender, config):\n",
    "    return f'''Review the following content. \n",
    "            \\n\\n {recipient.chat_messages_for_summary(sender)[-1]['content']}'''\n",
    "\n",
    "review_chats = [\n",
    "    {\n",
    "     \"recipient\": SEO_reviewer, \n",
    "     \"message\": reflection_message, \n",
    "     \"summary_method\": \"reflection_with_llm\",\n",
    "     \"summary_args\": {\"summary_prompt\" : \n",
    "        \"Return review into as JSON object only:\"\n",
    "        \"{'Reviewer': '', 'Review': ''}. Here Reviewer should be your role\",},\n",
    "     \"max_turns\": 1},\n",
    "    {\n",
    "    \"recipient\": legal_reviewer, \"message\": reflection_message, \n",
    "     \"summary_method\": \"reflection_with_llm\",\n",
    "     \"summary_args\": {\"summary_prompt\" : \n",
    "        \"Return review into as JSON object only:\"\n",
    "        \"{'Reviewer': '', 'Review': ''}.\",},\n",
    "     \"max_turns\": 1},\n",
    "    {\"recipient\": ethics_reviewer, \"message\": reflection_message, \n",
    "     \"summary_method\": \"reflection_with_llm\",\n",
    "     \"summary_args\": {\"summary_prompt\" : \n",
    "        \"Return review into as JSON object only:\"\n",
    "        \"{'reviewer': '', 'review': ''}\",},\n",
    "     \"max_turns\": 1},\n",
    "     {\"recipient\": meta_reviewer, \n",
    "      \"message\": \"Aggregrate feedback from all reviewers and give final suggestions on the writing.\", \n",
    "     \"max_turns\": 1},\n",
    "]\n"
   ]
  },
  {
   "cell_type": "code",
   "execution_count": 13,
   "metadata": {},
   "outputs": [],
   "source": [
    "critic.register_nested_chats(\n",
    "    review_chats,\n",
    "    trigger=writer,\n",
    ")"
   ]
  },
  {
   "cell_type": "code",
   "execution_count": 14,
   "metadata": {},
   "outputs": [
    {
     "name": "stdout",
     "output_type": "stream",
     "text": [
      "\u001b[33mCritic\u001b[0m (to Writer):\n",
      "\n",
      "\n",
      "        Write a concise but engaging blogpost about\n",
      "       DeepLearning.AI. Make sure the blogpost is\n",
      "       within 100 words.\n",
      "       \n",
      "\n",
      "--------------------------------------------------------------------------------\n",
      "\u001b[33mWriter\u001b[0m (to Critic):\n",
      "\n",
      "Title: Unleashing the Power of Deep Learning with DeepLearning.AI\n",
      "\n",
      "Are you ready to dive into the fascinating world of deep learning? Look no further than DeepLearning.AI, your gateway to cutting-edge technology and innovation. Founded by the renowned AI expert Andrew Ng, this platform offers top-tier courses that cater to beginners and experts alike. From computer vision to natural language processing, DeepLearning.AI equips you with the tools and knowledge needed to thrive in the AI industry. Join a global community of learners and unleash your potential with DeepLearning.AI today!\n",
      "\n",
      "--------------------------------------------------------------------------------\n",
      "\u001b[34m\n",
      "********************************************************************************\u001b[0m\n",
      "\u001b[34mStarting a new chat....\u001b[0m\n",
      "\u001b[34m\n",
      "********************************************************************************\u001b[0m\n",
      "\u001b[33mCritic\u001b[0m (to SEO Reviewer):\n",
      "\n",
      "Review the following content. \n",
      "            \n",
      "\n",
      " Title: Unleashing the Power of Deep Learning with DeepLearning.AI\n",
      "\n",
      "Are you ready to dive into the fascinating world of deep learning? Look no further than DeepLearning.AI, your gateway to cutting-edge technology and innovation. Founded by the renowned AI expert Andrew Ng, this platform offers top-tier courses that cater to beginners and experts alike. From computer vision to natural language processing, DeepLearning.AI equips you with the tools and knowledge needed to thrive in the AI industry. Join a global community of learners and unleash your potential with DeepLearning.AI today!\n",
      "\n",
      "--------------------------------------------------------------------------------\n",
      "\u001b[33mSEO Reviewer\u001b[0m (to Critic):\n",
      "\n",
      "As an SEO reviewer, here is my feedback on the content provided:\n",
      "\n",
      "1. **Optimize the Title**: Consider including high-ranking keywords related to deep learning, Andrew Ng, and AI courses to enhance search visibility. For example, \"Empower Your Deep Learning Journey with DeepLearning.AI by Andrew Ng\" could attract more relevant traffic.\n",
      "\n",
      "2. **Keyword Integration**: Integrate relevant keywords strategically throughout the content to improve its search engine optimization. Consistently using terms like \"deep learning,\" \"AI courses,\" and \"Andrew Ng\" in the body can enhance its visibility to those searching for such topics.\n",
      "\n",
      "3. **Call to Action (CTA)**: Include a clear and actionable CTA at the end of the content to encourage user engagement, such as \"Enroll now and unlock the power of DeepLearning.AI with Andrew Ng.\" This can lead to higher interaction rates and conversions.\n",
      "\n",
      "--------------------------------------------------------------------------------\n",
      "\u001b[34m\n",
      "********************************************************************************\u001b[0m\n",
      "\u001b[34mStarting a new chat....\u001b[0m\n",
      "\u001b[34m\n",
      "********************************************************************************\u001b[0m\n",
      "\u001b[33mCritic\u001b[0m (to Legal Reviewer):\n",
      "\n",
      "Review the following content. \n",
      "            \n",
      "\n",
      " Title: Unleashing the Power of Deep Learning with DeepLearning.AI\n",
      "\n",
      "Are you ready to dive into the fascinating world of deep learning? Look no further than DeepLearning.AI, your gateway to cutting-edge technology and innovation. Founded by the renowned AI expert Andrew Ng, this platform offers top-tier courses that cater to beginners and experts alike. From computer vision to natural language processing, DeepLearning.AI equips you with the tools and knowledge needed to thrive in the AI industry. Join a global community of learners and unleash your potential with DeepLearning.AI today!\n",
      "Context: \n",
      "{'Reviewer': 'SEO Reviewer', 'Review': 'Title optimization and keyword integration can be improved for better search visibility. Consider adding a clear call to action at the end of the content to boost user engagement.'}\n",
      "\n",
      "--------------------------------------------------------------------------------\n",
      "\u001b[33mLegal Reviewer\u001b[0m (to Critic):\n",
      "\n",
      "As a Legal Reviewer:\n",
      "\n",
      "- Ensure compliance with intellectual property laws by verifying the use of any copyrighted terms or phrases.\n",
      "  \n",
      "- Confirm that there are no false or misleading statements regarding the services or qualifications of DeepLearning.AI.\n",
      "\n",
      "- Check for any undisclosed endorsements or testimonials that could potentially mislead consumers.\n",
      "\n",
      "--------------------------------------------------------------------------------\n",
      "\u001b[34m\n",
      "********************************************************************************\u001b[0m\n",
      "\u001b[34mStarting a new chat....\u001b[0m\n",
      "\u001b[34m\n",
      "********************************************************************************\u001b[0m\n",
      "\u001b[33mCritic\u001b[0m (to Ethics Reviewer):\n",
      "\n",
      "Review the following content. \n",
      "            \n",
      "\n",
      " Title: Unleashing the Power of Deep Learning with DeepLearning.AI\n",
      "\n",
      "Are you ready to dive into the fascinating world of deep learning? Look no further than DeepLearning.AI, your gateway to cutting-edge technology and innovation. Founded by the renowned AI expert Andrew Ng, this platform offers top-tier courses that cater to beginners and experts alike. From computer vision to natural language processing, DeepLearning.AI equips you with the tools and knowledge needed to thrive in the AI industry. Join a global community of learners and unleash your potential with DeepLearning.AI today!\n",
      "Context: \n",
      "{'Reviewer': 'SEO Reviewer', 'Review': 'Title optimization and keyword integration can be improved for better search visibility. Consider adding a clear call to action at the end of the content to boost user engagement.'}\n",
      "{'Reviewer': 'SEO Reviewer', 'Review': 'Title optimization and keyword integration can be improved for better search visibility. Consider adding a clear call to action at the end of the content to boost user engagement.'}\n",
      "\n",
      "--------------------------------------------------------------------------------\n",
      "\u001b[33mEthics Reviewer\u001b[0m (to Critic):\n",
      "\n",
      "As an ethics reviewer:\n",
      "\n",
      "1. Ensure that all claims about the platform's offerings, such as courses and benefits, are factually accurate and supported by evidence.\n",
      "   \n",
      "2. Avoid making exaggerated or unrealistic promises about the outcomes or results learners can achieve by using DeepLearning.AI, to maintain ethical standards.\n",
      "   \n",
      "3. If using testimonials or examples of success stories, make sure they are authentic and accurately represent the experiences of learners, avoiding fabrication or misrepresentation.\n",
      "\n",
      "--------------------------------------------------------------------------------\n",
      "\u001b[34m\n",
      "********************************************************************************\u001b[0m\n",
      "\u001b[34mStarting a new chat....\u001b[0m\n",
      "\u001b[34m\n",
      "********************************************************************************\u001b[0m\n",
      "\u001b[33mCritic\u001b[0m (to Meta Reviewer):\n",
      "\n",
      "Aggregrate feedback from all reviewers and give final suggestions on the writing.\n",
      "Context: \n",
      "{'Reviewer': 'SEO Reviewer', 'Review': 'Title optimization and keyword integration can be improved for better search visibility. Consider adding a clear call to action at the end of the content to boost user engagement.'}\n",
      "{'Reviewer': 'SEO Reviewer', 'Review': 'Title optimization and keyword integration can be improved for better search visibility. Consider adding a clear call to action at the end of the content to boost user engagement.'}\n",
      "{'reviewer': 'SEO Reviewer', 'review': 'Title optimization and keyword integration can be improved for better search visibility. Consider adding a clear call to action at the end of the content to boost user engagement.'}\n",
      "\n",
      "--------------------------------------------------------------------------------\n",
      "\u001b[33mMeta Reviewer\u001b[0m (to Critic):\n",
      "\n",
      "Aggregated Feedback:\n",
      "- All reviewers noted that title optimization and keyword integration could be improved for better search visibility.\n",
      "- The suggestion to add a clear call to action at the end of the content was repeated by each reviewer for enhancing user engagement.\n",
      "\n",
      "Final Suggestions:\n",
      "1. Focus on enhancing title optimization and keyword integration to improve search visibility. Utilize relevant keywords strategically within the content.\n",
      "2. Incorporate a clear call to action at the end of the content to encourage user engagement and interaction.\n",
      "3. Consider revisiting the content with these suggestions in mind to enhance its overall effectiveness for both search engines and user experience.\n",
      "\n",
      "--------------------------------------------------------------------------------\n",
      "\u001b[33mCritic\u001b[0m (to Writer):\n",
      "\n",
      "Aggregated Feedback:\n",
      "- All reviewers noted that title optimization and keyword integration could be improved for better search visibility.\n",
      "- The suggestion to add a clear call to action at the end of the content was repeated by each reviewer for enhancing user engagement.\n",
      "\n",
      "Final Suggestions:\n",
      "1. Focus on enhancing title optimization and keyword integration to improve search visibility. Utilize relevant keywords strategically within the content.\n",
      "2. Incorporate a clear call to action at the end of the content to encourage user engagement and interaction.\n",
      "3. Consider revisiting the content with these suggestions in mind to enhance its overall effectiveness for both search engines and user experience.\n",
      "\n",
      "--------------------------------------------------------------------------------\n",
      "\u001b[33mWriter\u001b[0m (to Critic):\n",
      "\n",
      "Title: Master Deep Learning with DeepLearning.AI\n",
      "\n",
      "Are you ready to unlock the world of deep learning? Dive into DeepLearning.AI, curated by AI expert Andrew Ng. Access beginner to advanced courses in computer vision and natural language processing – essentials for AI success. Join a diverse global learning hub and propel your AI career forward. Embrace the future with DeepLearning.AI today!\n",
      "\n",
      "Remember to further enhance your SEO strategy through optimized titles and content rich in relevant keywords. Don't forget to include a clear call to action to boost user engagement.\n",
      "\n",
      "--------------------------------------------------------------------------------\n"
     ]
    }
   ],
   "source": [
    "res = critic.initiate_chat(\n",
    "    recipient=writer,\n",
    "    message=task,\n",
    "    max_turns=2,\n",
    "    summary_method=\"last_msg\"\n",
    ")"
   ]
  },
  {
   "cell_type": "code",
   "execution_count": 15,
   "metadata": {},
   "outputs": [
    {
     "name": "stdout",
     "output_type": "stream",
     "text": [
      "Title: Master Deep Learning with DeepLearning.AI\n",
      "\n",
      "Are you ready to unlock the world of deep learning? Dive into DeepLearning.AI, curated by AI expert Andrew Ng. Access beginner to advanced courses in computer vision and natural language processing – essentials for AI success. Join a diverse global learning hub and propel your AI career forward. Embrace the future with DeepLearning.AI today!\n",
      "\n",
      "Remember to further enhance your SEO strategy through optimized titles and content rich in relevant keywords. Don't forget to include a clear call to action to boost user engagement.\n"
     ]
    }
   ],
   "source": [
    "print(res.summary)"
   ]
  },
  {
   "cell_type": "code",
   "execution_count": null,
   "metadata": {},
   "outputs": [],
   "source": []
  }
 ],
 "metadata": {
  "kernelspec": {
   "display_name": "env",
   "language": "python",
   "name": "python3"
  },
  "language_info": {
   "codemirror_mode": {
    "name": "ipython",
    "version": 3
   },
   "file_extension": ".py",
   "mimetype": "text/x-python",
   "name": "python",
   "nbconvert_exporter": "python",
   "pygments_lexer": "ipython3",
   "version": "3.12.4"
  }
 },
 "nbformat": 4,
 "nbformat_minor": 2
}
